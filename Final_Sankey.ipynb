{
 "cells": [
  {
   "cell_type": "markdown",
   "metadata": {},
   "source": [
    "Making Sankey!"
   ]
  },
  {
   "cell_type": "code",
   "execution_count": 1,
   "metadata": {
    "ExecuteTime": {
     "end_time": "2024-03-28T14:48:10.180924Z",
     "start_time": "2024-03-28T14:48:09.836653Z"
    }
   },
   "outputs": [],
   "source": [
    "# import the used libraries\n",
    "import pandas as pd\n",
    "import plotly.graph_objects as go\n",
    "import plotly.offline as pyo\n",
    "import random"
   ]
  },
  {
   "cell_type": "code",
   "execution_count": 2,
   "metadata": {
    "ExecuteTime": {
     "end_time": "2024-03-28T14:48:13.605816Z",
     "start_time": "2024-03-28T14:48:13.599604Z"
    }
   },
   "outputs": [],
   "source": [
    "# read the data into a pandas dataframe\n",
    "data = pd.read_csv('Final_Portal_GCM_mappedcountries.csv')"
   ]
  },
  {
   "cell_type": "code",
   "execution_count": null,
   "metadata": {
    "ExecuteTime": {
     "end_time": "2024-03-28T14:48:16.235111Z",
     "start_time": "2024-03-28T14:48:16.231225Z"
    }
   },
   "outputs": [],
   "source": [
    "# To check the number of unique values, print the unique values in each column and show the number of unique values\n",
    "print(data['Portal'].nunique())\n",
    "print(data['Country'].nunique())\n",
    "print(data['Institute'].nunique())\n",
    "print(data['Model'].nunique())\n",
    "print(data['Downscaling'].nunique())"
   ]
  },
  {
   "cell_type": "code",
   "execution_count": 4,
   "metadata": {
    "ExecuteTime": {
     "end_time": "2024-03-28T14:48:20.692341Z",
     "start_time": "2024-03-28T14:48:20.689961Z"
    }
   },
   "outputs": [],
   "source": [
    "# Set color palette, colorblind friendly\n",
    "portal_colors = ['#68023F',\n",
    "                '#008169',\n",
    "                '#EF0096',\n",
    "                '#00DCB5',\n",
    "                '#FFCFE2',\n",
    "                '#003C86',\n",
    "                '#9400E6',\n",
    "                '#009FFA',\n",
    "                '#FF71FD',\n",
    "                '#7CFFFA',\n",
    "                '#6A0213',\n",
    "                '#008607',\n",
    "                '#F60239',\n",
    "                '#00E307',\n",
    "                '#FFDC3D']"
   ]
  },
  {
   "cell_type": "code",
   "execution_count": 5,
   "metadata": {
    "ExecuteTime": {
     "end_time": "2024-03-28T14:48:34.025648Z",
     "start_time": "2024-03-28T14:48:34.021458Z"
    }
   },
   "outputs": [],
   "source": [
    "def blend_with_white(color, alpha):\n",
    "    \"\"\"\n",
    "    Blend a color with white. There are a lot of nodes in this Sankey diagram, so we need to generate a lot of colors in the colorblind-friendly palette.\n",
    "    \n",
    "    Args:\n",
    "    - color (str): Hexadecimal color string (e.g., \"#FF0000\" for red).\n",
    "    - alpha (float): Blending factor between 0 and 1. \n",
    "        0 will give original color, 1 will give white.\n",
    "\n",
    "    Returns:\n",
    "    - str: Hexadecimal color string after blending.\n",
    "    \"\"\"\n",
    "    r = int(color[1:3], 16)\n",
    "    g = int(color[3:5], 16)\n",
    "    b = int(color[5:7], 16)\n",
    "    \n",
    "    r = int(r + (255 - r) * alpha)\n",
    "    g = int(g + (255 - g) * alpha)\n",
    "    b = int(b + (255 - b) * alpha)\n",
    "    \n",
    "    return \"#{:02X}{:02X}{:02X}\".format(r, g, b)\n",
    "\n",
    "colors = [\n",
    "    \"#68023F\", \"#008169\", \"#EF0096\", \"#00DCB5\", \"#FFCFE2\",\n",
    "    \"#003C86\", \"#9400E6\", \"#009FFA\", \"#FF71FD\", \"#7CFFFA\",\n",
    "    \"#6A0213\", \"#008607\", \"#F60239\", \"#00E307\", \"#FFDC3D\"\n",
    "]\n",
    "\n",
    "# Assign base colors to portals\n",
    "portal_colors = colors\n",
    "\n",
    "# Generate shades for the other nodes\n",
    "other_node_colors = [blend_with_white(random.choice(colors), random.uniform(0.3, 0.7)) for _ in range(174)] # change 100 to your requirement\n",
    "\n",
    "# Now you can use `portal_colors` for portal nodes and randomly pick from `other_node_colors` for the \"Model\", \"institute\", and \"country\" nodes in your Sankey diagram.\n"
   ]
  },
  {
   "cell_type": "code",
   "execution_count": 6,
   "metadata": {
    "ExecuteTime": {
     "end_time": "2024-03-28T14:48:45.556314Z",
     "start_time": "2024-03-28T14:48:45.553993Z"
    }
   },
   "outputs": [],
   "source": [
    "# Assign colors to the nodes\n",
    "node_colors = other_node_colors + portal_colors "
   ]
  },
  {
   "cell_type": "code",
   "execution_count": 5,
   "metadata": {
    "ExecuteTime": {
     "end_time": "2024-03-28T14:48:47.600116Z",
     "start_time": "2024-03-28T14:48:47.596226Z"
    }
   },
   "outputs": [],
   "source": [
    "#get the unique values from the columns\n",
    "institutes = data['Institute'].unique().tolist()\n",
    "models = data['Model'].unique().tolist()\n",
    "portals = data['Portal'].unique().tolist()\n",
    "countries = data['Country'].unique().tolist()\n",
    "downscaling = data['Downscaling'].unique().tolist()"
   ]
  },
  {
   "cell_type": "code",
   "execution_count": 6,
   "metadata": {
    "ExecuteTime": {
     "end_time": "2024-03-28T14:48:49.366834Z",
     "start_time": "2024-03-28T14:48:49.364228Z"
    }
   },
   "outputs": [],
   "source": [
    "# sort the unique values\n",
    "models = sorted(models)\n",
    "countries = sorted(countries)\n",
    "institutes = sorted(institutes)\n",
    "portals = sorted(portals)\n",
    "downscaling = sorted(downscaling)"
   ]
  },
  {
   "cell_type": "code",
   "execution_count": 7,
   "metadata": {
    "ExecuteTime": {
     "end_time": "2024-03-28T14:48:50.356054Z",
     "start_time": "2024-03-28T14:48:50.353617Z"
    }
   },
   "outputs": [],
   "source": [
    "# create a list of labels\n",
    "labels = models + countries + institutes + downscaling + portals"
   ]
  },
  {
   "cell_type": "code",
   "execution_count": null,
   "metadata": {
    "ExecuteTime": {
     "end_time": "2024-03-28T14:50:45.503606Z",
     "start_time": "2024-03-28T14:50:45.230434Z"
    }
   },
   "outputs": [],
   "source": [
    "# This highlights US paths and brings them in front of all other paths\n",
    "\n",
    "# Get source, target, value, and color lists\n",
    "source = []\n",
    "target = []\n",
    "value = []\n",
    "link_colors = []\n",
    "\n",
    "# First, create all non-USA paths\n",
    "for _, row in data.iterrows():\n",
    "    if row['Country'] != 'USA':\n",
    "        # Link from model to country\n",
    "        source.append(models.index(row['Model']))\n",
    "        target.append(len(models) + countries.index(row['Country']))\n",
    "        value.append(1)  # you can change this value if needed\n",
    "        link_colors.append('lightgray')\n",
    "\n",
    "        # Link from country to institute\n",
    "        source.append(len(models) + countries.index(row['Country']))\n",
    "        target.append(len(models) + len(countries) + institutes.index(row['Institute']))\n",
    "        value.append(1)  # assuming each row in the csv represents a count of 1\n",
    "        link_colors.append('lightgray')\n",
    "\n",
    "        # Link from institute to portal\n",
    "        source.append(len(models) + len(countries) + institutes.index(row['Institute']))\n",
    "        target.append(len(models) + len(countries) + len(institutes) + portals.index(row['Portal']))\n",
    "        value.append(1)\n",
    "        link_colors.append('lightgray')\n",
    "\n",
    "# Then, create all USA paths\n",
    "for _, row in data.iterrows():\n",
    "    if row['Country'] == 'USA':\n",
    "        # Link from model to country\n",
    "        source.append(models.index(row['Model']))\n",
    "        target.append(len(models) + countries.index(row['Country']))\n",
    "        value.append(1)\n",
    "        link_colors.append('#003C86')\n",
    "\n",
    "        # Link from country to institute\n",
    "        source.append(len(models) + countries.index(row['Country']))\n",
    "        target.append(len(models) + len(countries) + institutes.index(row['Institute']))\n",
    "        value.append(1)\n",
    "        link_colors.append('#003C86')\n",
    "\n",
    "        # Link from institute to portal\n",
    "        source.append(len(models) + len(countries) + institutes.index(row['Institute']))\n",
    "        target.append(len(models) + len(countries) + len(institutes) + portals.index(row['Portal']))\n",
    "        value.append(1)\n",
    "        link_colors.append('#003C86')\n",
    "\n",
    "# Plot the Sankey diagram\n",
    "fig = go.Figure(data=[go.Sankey(\n",
    "    node=dict(\n",
    "        pad=15,\n",
    "        thickness=20,\n",
    "        line=dict(color=\"black\", width=0.5),\n",
    "        label=labels,\n",
    "        color=node_colors  # use the set node colors\n",
    "    ),\n",
    "    link=dict(\n",
    "        source=source,\n",
    "        target=target,\n",
    "        value=value,\n",
    "        color=link_colors  # set color based on USA connection\n",
    "    )\n",
    ")])\n",
    "\n",
    "fig.update_layout(title_text=\"Model - Country - Institute - Portal Relationships with USA Highlighted\", font_size=10)\n",
    "fig.show()\n",
    "pyo.plot(fig, filename='USA_On_Top_Sankey.html')\n"
   ]
  },
  {
   "cell_type": "code",
   "execution_count": null,
   "metadata": {},
   "outputs": [],
   "source": [
    "# Get source, target, value, and color lists\n",
    "source = []\n",
    "target = []\n",
    "value = []\n",
    "link_colors = []\n",
    "\n",
    "# First, create all non-USA paths\n",
    "for _, row in data.iterrows():\n",
    "    if row['Institute'] != 'NASA':\n",
    "        # ... [other links remain the same] ...\n",
    "\n",
    "        # Link from institute to downscaling\n",
    "        source.append(len(models) + len(countries) + institutes.index(row['Institute']))\n",
    "        target.append(len(models) + len(countries) + len(institutes) + downscaling.index(row['Downscaling']))\n",
    "        value.append(1)\n",
    "        link_colors.append('lightgray')\n",
    "\n",
    "        # Link from downscaling to portal\n",
    "        source.append(len(models) + len(countries) + len(institutes) + downscaling.index(row['Downscaling']))\n",
    "        target.append(len(models) + len(countries) + len(institutes) + len(downscaling) + portals.index(row['Portal']))\n",
    "        value.append(1)\n",
    "        link_colors.append('lightgray')\n",
    "\n",
    "# Then, create all USA paths\n",
    "for _, row in data.iterrows():\n",
    "    if row['Institute'] == 'NASA':\n",
    "        # ... [other links remain the same] ...\n",
    "\n",
    "        # Link from institute to downscaling\n",
    "        source.append(len(models) + len(countries) + institutes.index(row['Institute']))\n",
    "        target.append(len(models) + len(countries) + len(institutes) + downscaling.index(row['Downscaling']))\n",
    "        value.append(1)\n",
    "        link_colors.append('#003C86')\n",
    "\n",
    "        # Link from downscaling to portal\n",
    "        source.append(len(models) + len(countries) + len(institutes) + downscaling.index(row['Downscaling']))\n",
    "        target.append(len(models) + len(countries) + len(institutes) + len(downscaling) + portals.index(row['Portal']))\n",
    "        value.append(1)\n",
    "        link_colors.append('#003C86')\n",
    "\n",
    "# Update labels to include downscalings\n",
    "labels = models + countries + institutes + downscaling + portals\n",
    "\n",
    "# Plot the Sankey diagram\n",
    "fig = go.Figure(data=[go.Sankey(\n",
    "    node=dict(\n",
    "        pad=15,\n",
    "        thickness=20,\n",
    "        line=dict(color=\"black\", width=0.5),\n",
    "        label=labels,\n",
    "        color=node_colors  # use the set node colors\n",
    "    ),\n",
    "    link=dict(\n",
    "        source=source,\n",
    "        target=target,\n",
    "        value=value,\n",
    "        color=link_colors  # set color based on USA connection\n",
    "    )\n",
    ")])\n",
    "\n",
    "fig.update_layout(title_text=\"Institute - Downscaling - Portal Relationships with NASA Highlighted\", font_size=10)\n",
    "fig.show()\n",
    "pyo.plot(fig, filename='downscaling.html')"
   ]
  },
  {
   "cell_type": "code",
   "execution_count": null,
   "metadata": {},
   "outputs": [],
   "source": []
  }
 ],
 "metadata": {
  "kernelspec": {
   "display_name": "Python 3",
   "language": "python",
   "name": "python3"
  },
  "language_info": {
   "codemirror_mode": {
    "name": "ipython",
    "version": 3
   },
   "file_extension": ".py",
   "mimetype": "text/x-python",
   "name": "python",
   "nbconvert_exporter": "python",
   "pygments_lexer": "ipython3",
   "version": "3.11.4"
  },
  "orig_nbformat": 4
 },
 "nbformat": 4,
 "nbformat_minor": 2
}
